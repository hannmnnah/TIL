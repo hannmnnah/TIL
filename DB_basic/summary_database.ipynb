{
 "cells": [
  {
   "cell_type": "markdown",
   "metadata": {},
   "source": [
    "## Database\n",
    "- RDBMS : 관계형 데이터 베이스  \n",
    "    -MySQL  \n",
    "    -데이터 베이스 서버에 설치  \n",
    "    -데이터 베이스 생성, 삭제, 수정, 쿼리문  \n",
    "    -서버, 데이터베이스, 테이블, 레코드, 값  \n",
    "    -쿼리문  \n",
    "        - SELECT FROM\n",
    "            - WHERE : 비교, 논리 연산자, IN, LIKE\n",
    "            - ORDER BY : 정렬\n",
    "            - LIMIT : 특정 갯수의 데이터를 선택\n",
    "            - GROUP BY, HAVING : 특정 컬럼의 데이터를 유니크하게 만들어서 데이터를 출력\n",
    "            - JOIN ON(관계형 데이터 베이스의 꽃) : LEFT, RIGHT, INNER, OUTER(UNION)\n",
    "            - sub query : 쿼리 안에 쿼리 : SELECT, FROM, WHERE\n",
    "            - VIEW : 복잡한 쿼리를 간단하게 만들어주는 방법\n",
    "        - INSERT INTO (columns) VALUES (values)\n",
    "        - UPDATE <table_name> SET\n",
    "     - INDEX : explain로 인덱스를 사용하는 테이블인지 아닌지 확인하고, 필요할 경우 인덱스를 설정해주었음\n",
    "     - SQLAlchemy : Python에서 사용하는 ORM\n",
    "---------\n",
    "- NoSQL : 비관계형 데이터 베이스\n",
    "    - MongoDB\n",
    "    - 서버, 데이터베이스, 컬렉션, 도큐먼트\n",
    "    - find\n",
    "    - pymongo : python에서 사용하는 orm *mongoAlchemy도 있는데, pymongo 자체가 객체화해서 사용 가능해서 잘사용안함\n",
    "    \n",
    "---------\n",
    "### RDBMS vs NoSQL\n",
    "    \n",
    "* RDBMS 특징\n",
    "- select가 빠르고 insert가 느림\n",
    "- transaction 지원\n",
    "- 스키마를 설계해서 수정할 때마다 그걸 체크해서 수정해서 넣어야하니까 복잡함\n",
    "\n",
    "\n",
    "* NoSQL 특징\n",
    "- select가 느리고 insert가 빠름\n",
    "- 딕셔너리 형태로 넣기만 하면 데이터가 알아서 차곡차곡 들어감\n",
    "- 데이터를 단순히 쌓아놓기만 할 경우 NoSQL이 좋음\n"
   ]
  }
 ],
 "metadata": {
  "kernelspec": {
   "display_name": "Python 3",
   "language": "python",
   "name": "python3"
  },
  "language_info": {
   "codemirror_mode": {
    "name": "ipython",
    "version": 3
   },
   "file_extension": ".py",
   "mimetype": "text/x-python",
   "name": "python",
   "nbconvert_exporter": "python",
   "pygments_lexer": "ipython3",
   "version": "3.6.9"
  }
 },
 "nbformat": 4,
 "nbformat_minor": 4
}
