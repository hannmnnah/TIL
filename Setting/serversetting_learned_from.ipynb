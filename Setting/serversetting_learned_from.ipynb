{
 "cells": [
  {
   "cell_type": "markdown",
   "metadata": {},
   "source": [
    "### SERVER SETTING\n",
    "\n",
    "- 1. OTP 설정 (One - Time - Password)\n",
    "     * 구글 otp   \n",
    "     - 계정 정보 보안이 좋지만, 모바일 폰을 잃어버리면 해당 계정을 날려야 한다.     \n",
    "     * authy MFA   \n",
    "     - 휴대폰과 메일 정보로 계정이 접근할 수 있어 접근 권한을 잃어버릴 일 없지만 보안이 뚫려 계정이 날릴 위험이 큼, 모바일,데스크탑,크롬브라우져에 모두 다운받아 사용할 수 있다.\n",
    "     \n",
    "- 2. 퍼블릭 IP 와 프라이빗 IP\n",
    "    * 퍼블릭 IP  \n",
    "    - 인터넷망 서버 ip - 인터넷망 서버 ip / 인터넷망 서버 ip - 프라이빗 ip를 연결하고 프라이빗 ip에는 인터넷망 서버의 데이터를 배정하는 역할도 하는 ip    \n",
    "    - ex_ 구글의 서버 ip, 와이파이 공유기의 ip  \n",
    "    * 프라이빗 IP  \n",
    "    - 개인 서버의 IP로 퍼블릭 IP로부터 다양한 서버의 데이터를 할당받음\n",
    "    \n",
    "- 3. FTP 서비스 (File-Transfer-Protocol)\n",
    "    * MAC os와 LINUX는 cyber duck / WINDOW 는 filezilla  \n",
    "    - 서버에 설치한 패키지 및 폴더를 더 쉽게 관리할 수 있는 GUI  \n",
    "- 4. pyenv 설정  \n",
    "    * 환경이 다른 프로젝트를 디렉토리를 나눠 작업할 때 autoenv를 통해 각 디렉토리에 들어가기만 해도 별도의 \n",
    "- 5. jupyter notebook 서버에 다운로드  \n",
    "    * AWS는 보안상의 문제로 직접적인 관리자 권한 접근을 막고 있음으로 sudo라는 관리자 권한 명령어가 필요하다. \n",
    "    * jupyter notebook은 포트 8888을 사용함으로 AWS에 8888 보안 설정을 추가해줘야한다.\n",
    "    \n",
    "     \n",
    "- 6. Mysql 설정\n",
    "    * Mysql은 포트 3306을 사용함으로 AWS에 포트 3306을 추가해줘야한다. \n",
    "     "
   ]
  }
 ],
 "metadata": {
  "kernelspec": {
   "display_name": "Python 3",
   "language": "python",
   "name": "python3"
  },
  "language_info": {
   "codemirror_mode": {
    "name": "ipython",
    "version": 3
   },
   "file_extension": ".py",
   "mimetype": "text/x-python",
   "name": "python",
   "nbconvert_exporter": "python",
   "pygments_lexer": "ipython3",
   "version": "3.7.1"
  }
 },
 "nbformat": 4,
 "nbformat_minor": 2
}
