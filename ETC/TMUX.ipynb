{
 "cells": [
  {
   "cell_type": "markdown",
   "metadata": {},
   "source": [
    "#### tmux : Terminal MultiPlexer\n",
    "- jupyter notebook과 mysql을 컨트롤하는 터미널을 동시에 띄어놓기 위해 처음 접한 개념으로, 사실은 아직,,,그 활용도를 느끼진 못했다. 그냥 터미널 여러개 켜면 되는 거 아닌가? 라는 생각이지만 그 활용도는 차차 알아가기로 한다~"
   ]
  },
  {
   "cell_type": "code",
   "execution_count": null,
   "metadata": {},
   "outputs": [],
   "source": [
    "# ubuntu 서버에 tmux 설치 \n",
    "sudo apt-get install tmux\n",
    "\n",
    "# 터미널에서 tmux 실행 = tmux 세션 생성\n",
    "$ tmux or tmux new -s <session_name> \n",
    "#0,1 과 같은 디폴트값으로 세션을 생성 or 세션 이름을 지정하고 생성"
   ]
  },
  {
   "cell_type": "code",
   "execution_count": null,
   "metadata": {},
   "outputs": [],
   "source": [
    "# session 내 window를 나누는 방법\n",
    "$ ctrl+b # 를 눌러 명령모드를 실행한후\n",
    "$ % # 세로 나눔\n",
    "$ \" # 가로 나눔\n",
    "$ 방향키 #나눠진 창 이동\n",
    "$ c # 해당 세션의 새로운 창 생성"
   ]
  },
  {
   "cell_type": "code",
   "execution_count": null,
   "metadata": {},
   "outputs": [],
   "source": [
    "# session을 백그라운드에서 돌리기\n",
    "$ ctrl+b # 를 눌러 명령모드를 실행한후\n",
    "$ d\n",
    "\n",
    "#session은 지정하여 종료해주지 않는 이상 계속 돌아간다\n",
    "$ exit #세션 내에서 세션 종료\n",
    "$ tmux kill-session -t <session_name> #해당 세션 밖에서 세션 종료"
   ]
  },
  {
   "cell_type": "code",
   "execution_count": null,
   "metadata": {},
   "outputs": [],
   "source": []
  },
  {
   "cell_type": "code",
   "execution_count": null,
   "metadata": {},
   "outputs": [],
   "source": []
  },
  {
   "cell_type": "code",
   "execution_count": null,
   "metadata": {},
   "outputs": [],
   "source": []
  },
  {
   "cell_type": "code",
   "execution_count": null,
   "metadata": {},
   "outputs": [],
   "source": []
  }
 ],
 "metadata": {
  "kernelspec": {
   "display_name": "Python 3",
   "language": "python",
   "name": "python3"
  },
  "language_info": {
   "codemirror_mode": {
    "name": "ipython",
    "version": 3
   },
   "file_extension": ".py",
   "mimetype": "text/x-python",
   "name": "python",
   "nbconvert_exporter": "python",
   "pygments_lexer": "ipython3",
   "version": "3.6.9"
  }
 },
 "nbformat": 4,
 "nbformat_minor": 4
}
